{
 "cells": [
  {
   "cell_type": "markdown",
   "id": "b1b275da",
   "metadata": {
    "slideshow": {
     "slide_type": "slide"
    }
   },
   "source": [
    "# NH Python: Virtual Environments!\n",
    "\n",
    "\n",
    "![virtual 8 bit forest sourced from hated on deviantart.com](http://orig09.deviantart.net/216c/f/2014/031/1/c/8_bit_forest_by_hated-d74jvvi.png)\n",
    "\n"
   ]
  },
  {
   "cell_type": "markdown",
   "id": "f37d6100",
   "metadata": {
    "slideshow": {
     "slide_type": "slide"
    }
   },
   "source": [
    "## This Evening's Journey\n",
    "\n",
    "- What are virtual environments and why you should use one\n",
    "- Lightning talks:\n",
    "    - Python's built-in `venv` module\n",
    "    - Anaconda\n",
    "    - Poetry\n",
    "    - `virtualenvwrapper`"
   ]
  },
  {
   "cell_type": "markdown",
   "id": "4ad7bdea",
   "metadata": {
    "slideshow": {
     "slide_type": "slide"
    }
   },
   "source": [
    "## Overview of Virtual Environments\n",
    "\n",
    "**What is a virtual environment?**\n",
    "\n",
    "- It's a contained directory with a Python interpreter and any third-party packages\n",
    "- The Python interpreter can be a symlink or the executables themselves\n",
    "- Environments are isolated from each other and your system or globally-installed versions of Python"
   ]
  },
  {
   "cell_type": "markdown",
   "id": "d8f7fda5",
   "metadata": {
    "slideshow": {
     "slide_type": "slide"
    }
   },
   "source": [
    "## Overview of Virtual Environments\n",
    "\n",
    "**Why are they useful and why use one?**\n",
    "\n",
    "- It's easy to create, use, and delete an environment\n",
    "- Installing packages into an environment won't affect any other versions of Python on your system\n",
    "- If you need mutliple versions of the same package for different projects\n",
    "- Avoids dependency-conflict nightmares\n",
    "- Makes it easy to replicate a production or project environment\n",
    "\n",
    "For more info, check out this great (and timely!) [Real Python article](https://realpython.com/python-virtual-environments-a-primer/) on virtual environments"
   ]
  },
  {
   "cell_type": "markdown",
   "id": "4c9f710c",
   "metadata": {
    "slideshow": {
     "slide_type": "slide"
    }
   },
   "source": [
    "## Python's venv Module\n",
    "\n",
    "- The `venv` module is part of Python's standard library (since version 3.5)\n",
    "- Installs the virtual environment in your current working directory\n",
    "- Will use the version of Python that you run to create the environment\n",
    "- Temporarily changes your `PATH` variable to switch environments\n",
    "    - Check Python version with `which python` command"
   ]
  },
  {
   "cell_type": "markdown",
   "id": "73a7478a",
   "metadata": {
    "slideshow": {
     "slide_type": "slide"
    }
   },
   "source": [
    "## venv: Create, Activate, and Install Packages into an Environment\n",
    "\n",
    "```shell\n",
    "# Create a project folder and navigate into it\n",
    ">> mkdir my_proj\n",
    ">> cd my_proj\n",
    "\n",
    "# Create a virtual environment named \"proj_venv\"\n",
    ">> python3 -m venv proj_venv\n",
    "\n",
    "# Activate the new environment (Linux/MacOS)\n",
    ">> source proj_venv/bin/activate\n",
    "\n",
    "# Activate the new environment (Windows)\n",
    "PS> proj_venv\\Scripts\\Activate.ps1\n",
    "\n",
    "# Install packages\n",
    "(proj_env)>> python -m pip install <package_1> <package_2==1.0.0> <'package_3>2.4'>\n",
    "\n",
    "# List all packages in the environment\n",
    "(proj_env)>> pip list\n",
    "\n",
    "# Update a package in the environment\n",
    "(proj_env)>> python -m pip install <package> --upgrade\n",
    "```"
   ]
  },
  {
   "cell_type": "markdown",
   "id": "27eb2611",
   "metadata": {
    "slideshow": {
     "slide_type": "slide"
    }
   },
   "source": [
    "## venv: Save, Recreate, or Delete an Environment\n",
    "\n",
    "```shell\n",
    "# Create a requirements.txt file with all packages/versions\n",
    "(proj_env)>> python -m pip freeze > requirements.txt\n",
    "\n",
    "# Install packages into an environment from a requirements.txt file (create and activate a new env. first, if needed)\n",
    "(new_env)>> python3 -m pip install -r requirements.txt\n",
    "\n",
    "# Deactivate an environment (environment name is optional)\n",
    "deactivate proj_venv\n",
    "\n",
    "# Delete an environment - delete the proj_env folder or run:\n",
    ">> rm -rf my_proj/proj_env\n",
    "```"
   ]
  },
  {
   "cell_type": "markdown",
   "id": "4f21d6f0",
   "metadata": {
    "slideshow": {
     "slide_type": "slide"
    }
   },
   "source": [
    "## Benefits and Limitations of venv\n",
    "\n",
    "**Benefits**\n",
    "\n",
    "- Easy to use\n",
    "- No installation needed (part of Python)\n",
    "\n",
    "**Limitations**\n",
    "\n",
    "- You need the Python interpreter already available on your system to use it\n",
    "- Can't use it to install different versions of Python\n",
    "- Not easy to use same environment for multiple projects"
   ]
  },
  {
   "cell_type": "markdown",
   "id": "42b16597",
   "metadata": {
    "slideshow": {
     "slide_type": "slide"
    }
   },
   "source": [
    "## Anaconda\n",
    "\n",
    "- A package and environment manager\n",
    "- Targets the data science community\n",
    "- Two options:\n",
    "    - [Anaconda](https://www.anaconda.com/products/distribution): package manager (conda), navigator (desktop app), and cloud backup\n",
    "    - [Miniconda](https://docs.conda.io/en/latest/miniconda.html): just the package manager (conda)\n",
    "- ~8,000 'curated' repository (tested, vetted, and compiled packages), but environments work with any installer\n",
    "- Creates a `base` environment with some high-use packages, keeps all environment folders in one location\n",
    "    - Temporarily changes your `PATH` variable to switch environments"
   ]
  },
  {
   "cell_type": "markdown",
   "id": "82fdd061",
   "metadata": {
    "slideshow": {
     "slide_type": "slide"
    }
   },
   "source": [
    "## Conda: Create, Activate, and Install Packages into an Environment\n",
    "\n",
    "```shell\n",
    "# Create an environment (from any directory)\n",
    ">> conda create --name my_env python=3.10 <package_1> <package_2>\n",
    "\n",
    "# Activate the environment\n",
    ">> conda activate my_env\n",
    "\n",
    "# Install more packages with conda\n",
    "(my_env)>> conda install <other_package_1> <other_package_2>\n",
    "\n",
    "# Install packages with pip\n",
    "(my_env)>> python -m pip install <package>\n",
    "\n",
    "# List all packages in an environment\n",
    "(my_env)>> conda list\n",
    "\n",
    "# Search for a package in conda\n",
    ">> conda search <package>\n",
    "\n",
    "# Search for a package in different channel\n",
    ">> conda search -c conda-forge <package>\n",
    "\n",
    "# Forgot what you named an environment? List all your environments\n",
    ">> conda env list\n",
    "```"
   ]
  },
  {
   "cell_type": "markdown",
   "id": "9f529fce",
   "metadata": {
    "slideshow": {
     "slide_type": "slide"
    }
   },
   "source": [
    "## Conda: Update or Remove Packages in an Environment\n",
    "\n",
    "```shell\n",
    "# Update packages installed with conda\n",
    "(my_env)>> conda update <package_1> <package_2>\n",
    "\n",
    "# Update packages installed with pip\n",
    "(my_env)>> python -m pip install <package> --upgrade\n",
    "\n",
    "# Remove a package from an environment (not activated)\n",
    ">> conda remove --name my_env <package>\n",
    "\n",
    "# Remove a package from an environment (activated)\n",
    "(my_env)>> conda remove <package>\n",
    "```\n"
   ]
  },
  {
   "cell_type": "markdown",
   "id": "dfe434eb",
   "metadata": {
    "slideshow": {
     "slide_type": "slide"
    }
   },
   "source": [
    "## Conda: Save, Recreate, or Delete an Environment\n",
    "\n",
    "```shell\n",
    "# Create a conda-friendly list of packages (env. needs to be activated)\n",
    "(my_env)>> conda env export | grep -v \"^prefix: \" > environment.yml\n",
    "\n",
    "# Create a pip-friendly list of packages (pip must be installed in env.)\n",
    "(my_env)>> pip list --format=freeze > requirements.txt\n",
    "\n",
    "# Recreate a conda environment\n",
    ">> conda env create -f environment.yml\n",
    "\n",
    "# Delete an environment\n",
    ">> conda env remove --name my_env\n",
    "```"
   ]
  },
  {
   "cell_type": "markdown",
   "id": "c28ae613",
   "metadata": {
    "slideshow": {
     "slide_type": "slide"
    }
   },
   "source": [
    "## Conda Advice\n",
    "\n",
    "- Avoid potentially long waits solving environments by installing all packages at once\n",
    "    - If it's taking a long time to solve, delete environment and re-install everything together\n",
    "- Create an `environment.yml` (`conda` format) file with environment packages\n",
    "    - Helps you to remember which environment a projects uses\n",
    "    - Can delete large environments to free up storage and recreate when necessary\n",
    "- Create a `requirements.txt` (`pip` format) file with environment packages\n",
    "    - Good for colleagues/others who may not use `conda`\n"
   ]
  },
  {
   "cell_type": "markdown",
   "id": "69e551d6",
   "metadata": {
    "slideshow": {
     "slide_type": "slide"
    }
   },
   "source": [
    "## Benefits and Limitations of Conda\n",
    "\n",
    "**Benefits**\n",
    "\n",
    "- Vetted packages in the `conda` channel - avoids bad actor issues (malicious code hidden in a commonly misspelled form of a popular package)\n",
    "- Environments are 'globally' available in one location, and can be accessed from any project folder\n",
    "- Can install any package with other installers (`pip`, `mamba`) if it's not available in `conda`, `conda-forge`, or other channels\n",
    "\n",
    "**Limitations**\n",
    "\n",
    "- Can take a long time to solve environments\n",
    "- Heavy handed in auto-activating the `base` environment in your shell profile/config file\n"
   ]
  }
 ],
 "metadata": {
  "celltoolbar": "Slideshow",
  "hide_input": false,
  "kernelspec": {
   "display_name": "Python 3 (ipykernel)",
   "language": "python",
   "name": "python3"
  },
  "language_info": {
   "codemirror_mode": {
    "name": "ipython",
    "version": 3
   },
   "file_extension": ".py",
   "mimetype": "text/x-python",
   "name": "python",
   "nbconvert_exporter": "python",
   "pygments_lexer": "ipython3",
   "version": "3.10.4"
  },
  "toc": {
   "base_numbering": 1,
   "nav_menu": {},
   "number_sections": true,
   "sideBar": true,
   "skip_h1_title": false,
   "title_cell": "Table of Contents",
   "title_sidebar": "Contents",
   "toc_cell": false,
   "toc_position": {},
   "toc_section_display": true,
   "toc_window_display": false
  }
 },
 "nbformat": 4,
 "nbformat_minor": 5
}
