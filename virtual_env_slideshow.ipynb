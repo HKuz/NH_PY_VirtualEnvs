{
 "cells": [
  {
   "cell_type": "markdown",
   "id": "b1b275da",
   "metadata": {
    "slideshow": {
     "slide_type": "slide"
    }
   },
   "source": [
    "# NH Python: Virtual Environments!\n",
    "\n",
    "\n",
    "![virtual 8 bit forest sourced from hated on deviantart.com](http://orig09.deviantart.net/216c/f/2014/031/1/c/8_bit_forest_by_hated-d74jvvi.png)\n",
    "\n"
   ]
  },
  {
   "cell_type": "markdown",
   "id": "c9609de3",
   "metadata": {
    "slideshow": {
     "slide_type": "slide"
    }
   },
   "source": [
    "## This Evening's Journey\n",
    "\n",
    "- What are virtual environments and why you should use one\n",
    "- Lightning talks:\n",
    "    - Python's built-in `venv` module\n",
    "    - Anaconda\n",
    "    - Poetry\n",
    "    - `virtualenvwrapper`"
   ]
  },
  {
   "cell_type": "markdown",
   "id": "79a6db00",
   "metadata": {
    "slideshow": {
     "slide_type": "slide"
    }
   },
   "source": [
    "## Overview of Virtual Environments\n",
    "\n",
    "**What is a virtual environment?**\n",
    "\n",
    "- It's a contained directory with a Python interpreter and any third-party packages\n",
    "- The Python interpreter can be a symlink or the executables themselves\n",
    "- Environments are isolated from each other and your system or globally-installed versions of Python"
   ]
  },
  {
   "cell_type": "markdown",
   "id": "4dc6464c",
   "metadata": {
    "slideshow": {
     "slide_type": "slide"
    }
   },
   "source": [
    "## Overview of Virtual Environments\n",
    "\n",
    "**Why are they useful and why use one?**\n",
    "\n",
    "- It's easy to create, use, and delete an environment\n",
    "- Installing packages into an environment won't affect any other versions of Python on your system\n",
    "- If you need mutliple versions of the same package for different projects\n",
    "- Avoids dependency-conflict nightmares\n",
    "- Makes it easy to replicate a production or project environment\n",
    "\n",
    "For more info, check out this great (and timely!) [Real Python article](https://realpython.com/python-virtual-environments-a-primer/) on virtual environments"
   ]
  },
  {
   "cell_type": "markdown",
   "id": "97eb21d1",
   "metadata": {
    "slideshow": {
     "slide_type": "slide"
    }
   },
   "source": [
    "## No One Wants to Manually Compare Dependency Trees!\n",
    "\n",
    "![]()"
   ]
  },
  {
   "cell_type": "markdown",
   "id": "9ba51af6",
   "metadata": {
    "slideshow": {
     "slide_type": "slide"
    }
   },
   "source": [
    "## Python's venv Module\n",
    "\n",
    "- The `venv` module is part of Python's standard library (since version 3.5)\n",
    "- Installs the virtual environment in your current working directory\n",
    "- Will use the version of Python that you run to create the environment"
   ]
  },
  {
   "cell_type": "markdown",
   "id": "c4448323",
   "metadata": {
    "slideshow": {
     "slide_type": "slide"
    }
   },
   "source": [
    "## How to Use venv\n",
    "\n",
    "```shell\n",
    "# Create a project folder and navigate into it\n",
    ">> mkdir my_proj\n",
    ">> cd my_proj\n",
    "\n",
    "# Create a virtual environment named \"proj_venv\"\n",
    ">> python3 -m venv proj_venv\n",
    "\n",
    "# Activate the new environment (Linux/MacOS)\n",
    ">> source proj_venv/bin/activate\n",
    "\n",
    "# Activate the new environment (Windows)\n",
    "PS> proj_venv\\Scripts\\Activate.ps1\n",
    "\n",
    "# Install packages\n",
    "(proj_env)>> python -m pip install <package_1> <package_2==1.0.0> <'package_3>2.4'>\n",
    "\n",
    "```"
   ]
  },
  {
   "cell_type": "markdown",
   "id": "1a628485",
   "metadata": {
    "slideshow": {
     "slide_type": "slide"
    }
   },
   "source": [
    "## How to Use venv (cont.)\n",
    "\n",
    "```shell\n",
    "# Create a requirements.txt file with all packages/versions\n",
    "python -m pip freeze > requirements.txt\n",
    "\n",
    "# Install packages into an environment from a requirements.txt file\n",
    "python3 -m pip install -r requirements.txt\n",
    "\n",
    "# Deactivate an environment (environment name is optional)\n",
    "deactivate proj_venv\n",
    "```"
   ]
  },
  {
   "cell_type": "markdown",
   "id": "24e9e25e",
   "metadata": {
    "slideshow": {
     "slide_type": "slide"
    }
   },
   "source": [
    "## Benefits and Limitations of venv\n",
    "\n",
    "**Benefits**\n",
    "\n",
    "- Easy to use\n",
    "- No installation needed (part of Python)\n",
    "\n",
    "**Limitations**\n",
    "\n",
    "- You need the Python interpreter already available on your system to use it\n",
    "- Can't use it to install different versions of Python\n",
    "- Not easy to use same environment for multiple projects"
   ]
  },
  {
   "cell_type": "markdown",
   "id": "2c77d4b9",
   "metadata": {
    "slideshow": {
     "slide_type": "slide"
    }
   },
   "source": [
    "## Anaconda\n",
    "\n",
    "- A package and environment manager\n",
    "- Targets the data science community\n",
    "- Two options:\n",
    "    - [Anaconda](https://www.anaconda.com/products/distribution): package manager (conda), navigator (desktop app), and cloud backup\n",
    "    - [Miniconda](https://docs.conda.io/en/latest/miniconda.html): just the package manager (conda)\n",
    "- ~8,000 'curated' repository (tested, vetted, and compiled packages), but environments work with any installer"
   ]
  },
  {
   "cell_type": "markdown",
   "id": "e0bc71ae",
   "metadata": {
    "slideshow": {
     "slide_type": "slide"
    }
   },
   "source": [
    "## How to Use Conda\n",
    "\n",
    "```shell\n",
    "# Create an environment (from any directory)\n",
    ">> conda create --name my_env python=3.10 <package_1> <package_2>\n",
    "\n",
    "# Activate the environment\n",
    ">> conda activate my_env\n",
    "\n",
    "# Install packages with pip\n",
    "(my_env)>> python -m pip install <package>\n",
    "\n",
    "# Search for a package in conda\n",
    "conda search <package>\n",
    "\n",
    "# Forgot what you named it? List all environments\n",
    "conda env list\n",
    "\n",
    "# List all packages in an environment\n",
    "conda activate my_env\n",
    "conda list\n",
    "\n",
    "```"
   ]
  },
  {
   "cell_type": "markdown",
   "id": "32cb599e",
   "metadata": {
    "slideshow": {
     "slide_type": "slide"
    }
   },
   "source": [
    "## Conda Advice\n",
    "\n",
    "- Avoid potentially long waits solving environments by installing all packages at once\n",
    "    - If it's taking a long time to solve, delete environment and re-install everything together\n",
    "- "
   ]
  },
  {
   "cell_type": "markdown",
   "id": "734f5c9b",
   "metadata": {
    "slideshow": {
     "slide_type": "slide"
    }
   },
   "source": [
    "## Benefits and Limitations of Conda\n",
    "\n",
    "**Benefits**\n",
    "\n",
    "- Vetted packages in the main channel - avoids bad actor issues (malicious code hidden in a commonly misspelled form of a popular package)\n",
    "- Environments are 'globally' available in one location, and can be accessed from any project folder\n",
    "- Can install any package with other installers (`pip`, `mamba`) if it's not available in `conda` or `conda-forge` channels\n",
    "\n",
    "**Limitations**\n",
    "\n",
    "- Heavy handed in auto-activating the `base` environment in your shell profile/config file\n",
    "- Can take a long time to solve environments"
   ]
  }
 ],
 "metadata": {
  "celltoolbar": "Slideshow",
  "hide_input": false,
  "kernelspec": {
   "display_name": "Python 3 (ipykernel)",
   "language": "python",
   "name": "python3"
  },
  "language_info": {
   "codemirror_mode": {
    "name": "ipython",
    "version": 3
   },
   "file_extension": ".py",
   "mimetype": "text/x-python",
   "name": "python",
   "nbconvert_exporter": "python",
   "pygments_lexer": "ipython3",
   "version": "3.10.4"
  },
  "toc": {
   "base_numbering": 1,
   "nav_menu": {},
   "number_sections": true,
   "sideBar": true,
   "skip_h1_title": false,
   "title_cell": "Table of Contents",
   "title_sidebar": "Contents",
   "toc_cell": false,
   "toc_position": {},
   "toc_section_display": true,
   "toc_window_display": false
  }
 },
 "nbformat": 4,
 "nbformat_minor": 5
}
